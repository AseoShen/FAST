{
 "cells": [
  {
   "cell_type": "markdown",
   "id": "29bc5c6a",
   "metadata": {},
   "source": [
    "# FAST算法提取图像角点\n",
    "\n",
    "@author Shen Yilin, NJU, 2022"
   ]
  },
  {
   "cell_type": "markdown",
   "id": "bdf32394",
   "metadata": {},
   "source": [
    "项目特点：\n",
    "\n",
    " - 从本地读取图像，转换数据后输入到IP核中计算，最后将输出结果还原为图像显示并保存在out.jpg中\n",
    " \n",
    " - 双向角点判断（黑-白、白-黑） \n",
    " "
   ]
  },
  {
   "cell_type": "markdown",
   "id": "4a80f049",
   "metadata": {},
   "source": [
    "## 一、提取并转换图像数据"
   ]
  },
  {
   "cell_type": "markdown",
   "id": "d7226466",
   "metadata": {},
   "source": [
    "利用cv库，读取图像，灰度化"
   ]
  },
  {
   "cell_type": "code",
   "execution_count": 70,
   "id": "b0d632d6",
   "metadata": {},
   "outputs": [
    {
     "data": {
      "image/png": "[encoded data removed]",
      "text/plain": [
       "<PIL.Image.Image image mode=L size=683x498 at 0x9E6D0868>"
      ]
     },
     "execution_count": 70,
     "metadata": {},
     "output_type": "execute_result"
    }
   ],
   "source": [
    "import cv2\n",
    "import PIL.Image\n",
    "import numpy as np\n",
    "\n",
    "img_ori = cv2.imread('./pic/hexagram.jpg', cv2.IMREAD_GRAYSCALE)\n",
    "#show image\n",
    "img_gray = PIL.Image.fromarray(img_ori)\n",
    "img_gray"
   ]
  },
  {
   "cell_type": "markdown",
   "id": "f600a297",
   "metadata": {},
   "source": [
    "获取图像行、列数，将图像二维数组展开为一维"
   ]
  },
  {
   "cell_type": "code",
   "execution_count": 71,
   "id": "d8e31a84",
   "metadata": {},
   "outputs": [
    {
     "name": "stdout",
     "output_type": "stream",
     "text": [
      "340134\n",
      "498\n",
      "683\n",
      "[255 255 255 255 255 255 255 255 255 255 255 255 255 255 255 255 255 255\n",
      " 255]\n"
     ]
    }
   ],
   "source": [
    "img_array = np.array(img_ori)\n",
    "\n",
    "rows = img_array.shape[0]  #行数\n",
    "cols = img_array.shape[1]  #列数\n",
    "\n",
    "img = img_array.flatten()  #数组一维展开\n",
    "\n",
    "print(len(img))\n",
    "print(rows)\n",
    "print(cols)\n",
    "print(img[0:19])"
   ]
  },
  {
   "cell_type": "markdown",
   "id": "1f6ac018",
   "metadata": {},
   "source": [
    "## 二、将数据输入IP运算"
   ]
  },
  {
   "cell_type": "markdown",
   "id": "e48c83e6",
   "metadata": {},
   "source": [
    "### 导入overlay"
   ]
  },
  {
   "cell_type": "code",
   "execution_count": 72,
   "id": "57e31eba",
   "metadata": {},
   "outputs": [],
   "source": [
    "from pynq import Overlay\n",
    "\n",
    "overlay = Overlay('./bits/FAST.bit')\n",
    "fast = overlay.fast_accel_0"
   ]
  },
  {
   "cell_type": "markdown",
   "id": "6d1ef326",
   "metadata": {},
   "source": [
    "### 分配buffer和地址"
   ]
  },
  {
   "cell_type": "markdown",
   "id": "5f60dabe",
   "metadata": {},
   "source": [
    "导入allocate，分配输入、输出buffer\n",
    "\n",
    " * 由于灰度数据长度仅为1字节，只需分配`i1`类型即可"
   ]
  },
  {
   "cell_type": "code",
   "execution_count": 73,
   "id": "617a7ed0",
   "metadata": {},
   "outputs": [],
   "source": [
    "from pynq import allocate\n",
    "\n",
    "img_len = len(img)  #图像数据长度\n",
    "threshold = 20      #阈值\n",
    "\n",
    "input_buffer = allocate(shape=(img_len,), dtype='i4')\n",
    "output_buffer = allocate(shape=(img_len,), dtype='i4')"
   ]
  },
  {
   "cell_type": "markdown",
   "id": "39f79374",
   "metadata": {},
   "source": [
    "将图像数据拷贝到`input_buffer`中"
   ]
  },
  {
   "cell_type": "code",
   "execution_count": 74,
   "id": "0f4af8b1",
   "metadata": {},
   "outputs": [],
   "source": [
    "np.copyto(input_buffer, img)"
   ]
  },
  {
   "cell_type": "markdown",
   "id": "5746b9b2",
   "metadata": {},
   "source": [
    "### 配置IP"
   ]
  },
  {
   "cell_type": "markdown",
   "id": "f7df0b06",
   "metadata": {},
   "source": [
    "将输入参数写入对应的地址空间"
   ]
  },
  {
   "cell_type": "code",
   "execution_count": 75,
   "id": "384dcd96",
   "metadata": {},
   "outputs": [],
   "source": [
    "fast.s_axi_control.write(0x10, input_buffer.physical_address)  #img_in -> input_buffer\n",
    "fast.s_axi_control.write(0x1c, output_buffer.physical_address) #img_out -> output_buffer\n",
    "fast.s_axi_CTRL.write(0x10, threshold)  #threshold\n",
    "fast.s_axi_CTRL.write(0x18, rows)       #rows\n",
    "fast.s_axi_CTRL.write(0x20, cols)       #cols"
   ]
  },
  {
   "cell_type": "markdown",
   "id": "dfdd793e",
   "metadata": {},
   "source": [
    "### 启动IP"
   ]
  },
  {
   "cell_type": "markdown",
   "id": "e6947456",
   "metadata": {},
   "source": [
    "控制信号位于0x00地址，我们可以对其进行写入与读取来控制IP启动、监听是否完成。"
   ]
  },
  {
   "cell_type": "code",
   "execution_count": 76,
   "id": "daa2e023",
   "metadata": {},
   "outputs": [
    {
     "name": "stdout",
     "output_type": "stream",
     "text": [
      "耗时：0.35277247428894043s\n"
     ]
    }
   ],
   "source": [
    "import time\n",
    "\n",
    "fast.s_axi_CTRL.write(0x00, 0b1)\n",
    "start_time = time.time()\n",
    "while True:\n",
    "    reg = fast.s_axi_CTRL.read(0x00)\n",
    "    if reg != 1:\n",
    "        break\n",
    "end_time = time.time()\n",
    "\n",
    "print(\"耗时：{}s\".format(end_time - start_time))"
   ]
  },
  {
   "cell_type": "markdown",
   "id": "a726e2c5",
   "metadata": {},
   "source": [
    "查看转换后的数组"
   ]
  },
  {
   "cell_type": "code",
   "execution_count": 77,
   "id": "326c9d2c",
   "metadata": {},
   "outputs": [],
   "source": [
    "# print(output_buffer[1000:1099])"
   ]
  },
  {
   "cell_type": "markdown",
   "id": "b8f365c9",
   "metadata": {},
   "source": [
    "一维数组二维重构"
   ]
  },
  {
   "cell_type": "code",
   "execution_count": 78,
   "id": "1bd001aa",
   "metadata": {},
   "outputs": [
    {
     "name": "stdout",
     "output_type": "stream",
     "text": [
      "[[255 255 255 ... 255 255 255]\n",
      " [255 255 255 ... 255 255 255]\n",
      " [255 255 255 ... 255 255 255]\n",
      " ...\n",
      " [255 255 255 ... 255 255 255]\n",
      " [255 255 255 ... 255 255 255]\n",
      " [255 255 255 ... 255 255 255]]\n"
     ]
    }
   ],
   "source": [
    "#灰度翻转，方便观察\n",
    "for i in range(img_len):\n",
    "    if output_buffer[i] == 0:\n",
    "        output_buffer[i] = 255\n",
    "    else:\n",
    "        output_buffer[i] = 0\n",
    "        \n",
    "r = np.array(output_buffer)\n",
    "out_array = r.reshape((rows, cols))\n",
    "print(out_array)\n",
    "\n",
    "            "
   ]
  },
  {
   "cell_type": "markdown",
   "id": "eedeb840",
   "metadata": {},
   "source": [
    "图像输出，使用PIL时总是输出纯黑图像，故使用matplot强制作图输出，另外**利用cv库将输出图像保存至本地后，可看出更清晰的角点提取效果**"
   ]
  },
  {
   "cell_type": "code",
   "execution_count": 79,
   "id": "c8beaf1c",
   "metadata": {},
   "outputs": [
    {
     "data": {
      "text/plain": [
       "(-0.5, 682.5, 497.5, -0.5)"
      ]
     },
     "execution_count": 79,
     "metadata": {},
     "output_type": "execute_result"
    },
    {
     "data": {
      "image/png": "[encoded data removed]",
      "text/plain": [
       "<Figure size 432x288 with 1 Axes>"
      ]
     },
     "metadata": {
      "needs_background": "light"
     },
     "output_type": "display_data"
    }
   ],
   "source": [
    "import matplotlib.pyplot as plt\n",
    "img_out = PIL.Image.fromarray(out_array)\n",
    "# img_out\n",
    "\n",
    "plt.imshow(img_out)\n",
    "plt.axis('off')    #隐藏边框"
   ]
  },
  {
   "cell_type": "code",
   "execution_count": 80,
   "id": "ccfd8045",
   "metadata": {},
   "outputs": [
    {
     "data": {
      "text/plain": [
       "True"
      ]
     },
     "execution_count": 80,
     "metadata": {},
     "output_type": "execute_result"
    }
   ],
   "source": [
    "filepath = \"./out.jpg\"\n",
    "cv2.imwrite(filepath, out_array)"
   ]
  }
 ],
 "metadata": {
  "kernelspec": {
   "display_name": "Python 3",
   "language": "python",
   "name": "python3"
  },
  "language_info": {
   "codemirror_mode": {
    "name": "ipython",
    "version": 3
   },
   "file_extension": ".py",
   "mimetype": "text/x-python",
   "name": "python",
   "nbconvert_exporter": "python",
   "pygments_lexer": "ipython3",
   "version": "3.8.2"
  }
 },
 "nbformat": 4,
 "nbformat_minor": 5
}
